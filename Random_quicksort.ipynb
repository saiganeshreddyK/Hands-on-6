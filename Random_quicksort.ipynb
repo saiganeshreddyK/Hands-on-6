{
 "cells": [
  {
   "cell_type": "code",
   "execution_count": 1,
   "id": "115b6324-d2ab-4cbc-8731-7fc7ddb71fa7",
   "metadata": {},
   "outputs": [
    {
     "name": "stdout",
     "output_type": "stream",
     "text": [
      "Original array: [45, 15, 17, 10, 77]\n",
      "Sorted array using random quicksort: [10, 15, 17, 45, 77]\n"
     ]
    }
   ],
   "source": [
    "import random\n",
    "\n",
    "def partition(arr, low, high):\n",
    "    pivot = arr[high]\n",
    "    i = low - 1\n",
    "    for j in range(low, high):\n",
    "        if arr[j] <= pivot:\n",
    "            i += 1\n",
    "            arr[i], arr[j] = arr[j], arr[i]\n",
    "    arr[i + 1], arr[high] = arr[high], arr[i + 1]\n",
    "    return i + 1\n",
    "\n",
    "def random_partition(arr, low, high):\n",
    "    random_index = random.randint(low, high)\n",
    "    arr[random_index], arr[high] = arr[high], arr[random_index]\n",
    "    return partition(arr, low, high)\n",
    "\n",
    "def random_quicksort(arr, low, high):\n",
    "    if low < high:\n",
    "        pi = random_partition(arr, low, high)\n",
    "        random_quicksort(arr, low, pi - 1)\n",
    "        random_quicksort(arr, pi + 1, high)\n",
    "\n",
    "# Example usage:\n",
    "arr = [45, 15, 17, 10, 77]\n",
    "n = len(arr)\n",
    "print(\"Original array:\", arr)\n",
    "\n",
    "random_quicksort(arr, 0, n - 1)\n",
    "print(\"Sorted array using random quicksort:\", arr)\n"
   ]
  }
 ],
 "metadata": {
  "kernelspec": {
   "display_name": "Python 3 (ipykernel)",
   "language": "python",
   "name": "python3"
  },
  "language_info": {
   "codemirror_mode": {
    "name": "ipython",
    "version": 3
   },
   "file_extension": ".py",
   "mimetype": "text/x-python",
   "name": "python",
   "nbconvert_exporter": "python",
   "pygments_lexer": "ipython3",
   "version": "3.12.1"
  }
 },
 "nbformat": 4,
 "nbformat_minor": 5
}
